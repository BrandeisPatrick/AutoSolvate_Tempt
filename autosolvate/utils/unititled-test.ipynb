{
 "cells": [
  {
   "cell_type": "code",
   "execution_count": 1,
   "metadata": {},
   "outputs": [
    {
     "name": "stdout",
     "output_type": "stream",
     "text": [
      "Untitled-2.ipynb\n",
      "Untitled-2\n",
      ".ipynb\n"
     ]
    }
   ],
   "source": [
    "import os \n",
    "\n",
    "basename = os.path.basename('/Users/username/Desktop/Untitled-2.ipynb') \n",
    "print(basename) \n",
    "\n",
    "name, ext = os.path.splitext(basename) \n",
    "print(name) \n",
    "print(ext) "
   ]
  },
  {
   "cell_type": "code",
   "execution_count": 2,
   "metadata": {},
   "outputs": [],
   "source": [
    "amber_solv_dict = {'water':     [' ','TIP3PBOX '],\n",
    "                   'methanol':  ['loadOff solvents.lib\\n loadamberparams frcmod.meoh\\n', 'MEOHBOX '],\n",
    "                   'chloroform':['loadOff solvents.lib\\n loadamberparams frcmod.chcl3\\n', 'CHCL3BOX '],\n",
    "                   'nma':       ['loadOff solvents.lib\\n loadamberparams frcmod.nma\\n', 'NMABOX ']}"
   ]
  },
  {
   "cell_type": "code",
   "execution_count": 3,
   "metadata": {},
   "outputs": [
    {
     "data": {
      "text/plain": [
       "'loadOff solvents.lib\\n loadamberparams frcmod.meoh\\n'"
      ]
     },
     "execution_count": 3,
     "metadata": {},
     "output_type": "execute_result"
    }
   ],
   "source": [
    "str(amber_solv_dict['methanol'][0])"
   ]
  },
  {
   "cell_type": "code",
   "execution_count": 4,
   "metadata": {},
   "outputs": [],
   "source": [
    "from multipledispatch import dispatch \n",
    "\n",
    "@dispatch(int)\n",
    "def p_A(a): \n",
    "    print('INT1')\n",
    "\n",
    "@dispatch(int, int)\n",
    "def p_A(a, b): \n",
    "    print('INT2')\n",
    "\n",
    "@dispatch(int) \n",
    "def p_B(a):\n",
    "    print('STR1')\n",
    "\n",
    "@dispatch(int, int)\n",
    "def p_B(a, b):\n",
    "    print('STR2')\n"
   ]
  },
  {
   "cell_type": "code",
   "execution_count": 5,
   "metadata": {},
   "outputs": [
    {
     "name": "stdout",
     "output_type": "stream",
     "text": [
      "INT2\n"
     ]
    }
   ],
   "source": [
    "p_A(1,1)"
   ]
  },
  {
   "cell_type": "code",
   "execution_count": 6,
   "metadata": {},
   "outputs": [
    {
     "name": "stdout",
     "output_type": "stream",
     "text": [
      "STR1\n"
     ]
    }
   ],
   "source": [
    "p_B(1)"
   ]
  },
  {
   "cell_type": "code",
   "execution_count": 7,
   "metadata": {},
   "outputs": [],
   "source": [
    "class molecule: \n",
    "    def __init__(self): \n",
    "        pass \n",
    "\n",
    "    @dispatch(int) \n",
    "    def p_B(self, a):\n",
    "        print('STR1')\n",
    "\n",
    "    @dispatch(int, int)\n",
    "    def p_B(self,a, b):\n",
    "        print('STR2')\n",
    "        \n",
    "        "
   ]
  },
  {
   "cell_type": "code",
   "execution_count": 8,
   "metadata": {},
   "outputs": [
    {
     "name": "stdout",
     "output_type": "stream",
     "text": [
      "STR1\n",
      "STR2\n"
     ]
    }
   ],
   "source": [
    "mol = molecule() \n",
    "mol.p_B(1)\n",
    "mol.p_B(1,1)"
   ]
  },
  {
   "cell_type": "code",
   "execution_count": 9,
   "metadata": {},
   "outputs": [],
   "source": [
    "# path = os.getcwd() \n",
    "# print (path) \n",
    "# os.mkdir('test')\n",
    "# os.chdir('test') \n",
    "# os.chdir(path)  \n",
    "# os.rmdir('test') \n",
    "# os.getcwd() "
   ]
  },
  {
   "cell_type": "code",
   "execution_count": 10,
   "metadata": {},
   "outputs": [
    {
     "name": "stdout",
     "output_type": "stream",
     "text": [
      "comparing\n",
      "True\n"
     ]
    }
   ],
   "source": [
    "from Molecule import Molecule \n",
    "from Molecule import AMBER_SOLVENT_LIST\n",
    "\n",
    "mol = Molecule(name='water', charge=0, multiplicity=1, \n",
    "                                     mol_type='solvent', \n",
    "                                     box='TIP3PBOX'\n",
    "              )\n",
    "\n",
    "if mol in AMBER_SOLVENT_LIST: \n",
    "    print('True') \n",
    "else:\n",
    "    print('False')"
   ]
  },
  {
   "cell_type": "code",
   "execution_count": 22,
   "metadata": {},
   "outputs": [
    {
     "name": "stdout",
     "output_type": "stream",
     "text": [
      "['/Users/mac/Github-Desktop/AutoSolvate/autosolvate/utils/update.py', '/Users/mac/Github-Desktop/AutoSolvate/autosolvate/utils/Molecule.py', '/Users/mac/Github-Desktop/AutoSolvate/autosolvate/utils/TleapDocker.py', '/Users/mac/Github-Desktop/AutoSolvate/autosolvate/utils/tools.py', '/Users/mac/Github-Desktop/AutoSolvate/autosolvate/utils/Common.py', '/Users/mac/Github-Desktop/AutoSolvate/autosolvate/utils/SolventBox.py', '/Users/mac/Github-Desktop/AutoSolvate/autosolvate/utils/AntechamberDocker.py', '/Users/mac/Github-Desktop/AutoSolvate/autosolvate/utils/ParmchkDocker.py', '/Users/mac/Github-Desktop/AutoSolvate/autosolvate/utils/PackmolDocker.py']\n",
      "Molecule.py exists\n"
     ]
    }
   ],
   "source": [
    "import glob \n",
    "from Common import WORKING_DIR \n",
    "\n",
    "search_range = '/Users/mac/Github-Desktop/AutoSolvate/autosolvate/utils/**/*' \n",
    "\n",
    "print(glob.glob(search_range + '.py', recursive=True))\n",
    "\n",
    "if 'Molecule.py' in glob.glob(search_range + '.py', recursive=True): \n",
    "    print('Molecule.py aaa')\n",
    "\n",
    "for file in glob.glob(search_range + '.py', recursive=True): \n",
    "    if file.endswith('Molecule.py'): \n",
    "        print('Molecule.py exists')"
   ]
  }
 ],
 "metadata": {
  "kernelspec": {
   "display_name": "Python 3",
   "language": "python",
   "name": "python3"
  },
  "language_info": {
   "codemirror_mode": {
    "name": "ipython",
    "version": 3
   },
   "file_extension": ".py",
   "mimetype": "text/x-python",
   "name": "python",
   "nbconvert_exporter": "python",
   "pygments_lexer": "ipython3",
   "version": "3.8.12 (default, Oct 12 2021, 06:23:56) \n[Clang 10.0.0 ]"
  },
  "orig_nbformat": 4,
  "vscode": {
   "interpreter": {
    "hash": "40d3a090f54c6569ab1632332b64b2c03c39dcf918b08424e98f38b5ae0af88f"
   }
  }
 },
 "nbformat": 4,
 "nbformat_minor": 2
}
