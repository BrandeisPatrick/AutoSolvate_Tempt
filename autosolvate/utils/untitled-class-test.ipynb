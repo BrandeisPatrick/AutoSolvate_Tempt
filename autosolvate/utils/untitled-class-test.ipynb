{
 "cells": [
  {
   "cell_type": "code",
   "execution_count": 1,
   "metadata": {},
   "outputs": [],
   "source": [
    "from Common import *"
   ]
  },
  {
   "cell_type": "code",
   "execution_count": 2,
   "metadata": {},
   "outputs": [],
   "source": [
    "from Molecule import Molecule "
   ]
  },
  {
   "cell_type": "code",
   "execution_count": 3,
   "metadata": {},
   "outputs": [
    {
     "name": "stdout",
     "output_type": "stream",
     "text": [
      "perchlorate.mol2\n",
      "perchlorate.frcmod\n"
     ]
    }
   ],
   "source": [
    "mol = Molecule(name='perchlorate', \n",
    "               charge=-1, \n",
    "               multiplicity=2, \n",
    "               mol_type='solvent', \n",
    "               residue_name='SLV', \n",
    "               pdb='perchlorate.pdb')\n",
    "\n",
    "mol.update()\n",
    "print(mol.mol2)\n",
    "print(mol.frcmod)"
   ]
  }
 ],
 "metadata": {
  "kernelspec": {
   "display_name": "Python 3",
   "language": "python",
   "name": "python3"
  },
  "language_info": {
   "codemirror_mode": {
    "name": "ipython",
    "version": 3
   },
   "file_extension": ".py",
   "mimetype": "text/x-python",
   "name": "python",
   "nbconvert_exporter": "python",
   "pygments_lexer": "ipython3",
   "version": "3.8.12"
  },
  "orig_nbformat": 4,
  "vscode": {
   "interpreter": {
    "hash": "40d3a090f54c6569ab1632332b64b2c03c39dcf918b08424e98f38b5ae0af88f"
   }
  }
 },
 "nbformat": 4,
 "nbformat_minor": 2
}
