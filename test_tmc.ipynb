{
 "cells": [
  {
   "cell_type": "code",
   "execution_count": 1,
   "metadata": {},
   "outputs": [
    {
     "name": "stdout",
     "output_type": "stream",
     "text": [
      "/home/fren5/AutoSolvae-update/AutoSolvate/autosolvate/dockers/_general_docker.py autosolvate.dockers\n"
     ]
    }
   ],
   "source": [
    "from autosolvate.autosolvate import *\n",
    "from autosolvate.molecule import * \n",
    "from autosolvate.dockers import *\n",
    "import parmed as pmd \n",
    "\n",
    "import os "
   ]
  },
  {
   "cell_type": "code",
   "execution_count": 2,
   "metadata": {},
   "outputs": [],
   "source": [
    "# test single molecule generation\n",
    "automcpb_folder = \"/home/fren5/AutoSolvae-update/FFgen\" \n",
    "tmcpdb = os.path.join(automcpb_folder, \"Co_plus3_dry.pdb\")\n",
    "prmtop = os.path.join(automcpb_folder, \"Co_plus3_dry.prmtop\")\n",
    "\n",
    "mol_tmc = TransitionMetalComplex(tmcpdb, 3, 1, prmtop, automcpb_folder, \n",
    "                                 metal_residue_names = [\"CO1\"], \n",
    "                                 name = \"Co_plus3_bpy3\",\n",
    "                                 residue_name = \"TMC\", \n",
    "                                 folder = \"test_tmc_single\")\n",
    "mol_tmc.update()\n",
    "\n",
    "TleapDocker(workfolder=mol_tmc.folder).run(mol_tmc)\n",
    "\n",
    "prmtop = pmd.amber.AmberParm(mol_tmc.prmtop, xyz = mol_tmc.pdb)\n",
    "prmtop.save(os.path.join(mol_tmc.folder, mol_tmc.name + \".mol2\"), format = \"mol2\", overwrite = True)"
   ]
  },
  {
   "cell_type": "code",
   "execution_count": 10,
   "metadata": {},
   "outputs": [
    {
     "name": "stdout",
     "output_type": "stream",
     "text": [
      "<Bond <Atom CO [0]; In CO1 0>--<Atom N [1]; In L01 1>; type=<BondType; k=84.700, req=1.964>>\n",
      "<Bond <Atom CO [0]; In CO1 0>--<Atom N1 [12]; In L01 1>; type=<BondType; k=84.700, req=1.964>>\n",
      "<Bond <Atom CO [0]; In CO1 0>--<Atom N [21]; In L11 2>; type=<BondType; k=84.000, req=1.966>>\n",
      "<Bond <Atom CO [0]; In CO1 0>--<Atom N1 [32]; In L11 2>; type=<BondType; k=84.200, req=1.965>>\n",
      "<Bond <Atom CO [0]; In CO1 0>--<Atom N [41]; In L21 3>; type=<BondType; k=84.200, req=1.965>>\n",
      "<Bond <Atom CO [0]; In CO1 0>--<Atom N1 [52]; In L21 3>; type=<BondType; k=84.000, req=1.966>>\n"
     ]
    },
    {
     "data": {
      "text/plain": [
       "6"
      ]
     },
     "execution_count": 10,
     "metadata": {},
     "output_type": "execute_result"
    }
   ],
   "source": [
    "prmtop.residues[0].atoms[0]\n",
    "prmtop.bonds\n",
    "n_bond_to_metal = 0\n",
    "for bond in prmtop.bonds:\n",
    "    if bond.atom1.residue.name == \"CO1\" and bond.atom2.residue.name != \"CO1\":\n",
    "        n_bond_to_metal += 1\n",
    "        print(bond)\n",
    "n_bond_to_metal"
   ]
  },
  {
   "cell_type": "code",
   "execution_count": 11,
   "metadata": {},
   "outputs": [],
   "source": [
    "automcpb_folder = \"/home/fren5/AutoSolvae-update/FFgen\" \n",
    "tmcpdb = os.path.join(automcpb_folder, \"Co_plus3_dry.pdb\")\n",
    "prmtop = os.path.join(automcpb_folder, \"Co_plus3_dry.prmtop\")\n",
    "\n",
    "mol_tmc = TransitionMetalComplex(tmcpdb, 3, 1, prmtop, automcpb_folder, \n",
    "                                 metal_residue_names = [\"CO1\"], \n",
    "                                 name = \"Co_plus3_bpy3\",\n",
    "                                 residue_name = \"TMC\", \n",
    "                                 folder = \"test_watbox\")\n",
    "mol_tmc.update()\n",
    "\n",
    "system = SolvatedSystem(\"Co_plus3_bpy3_water_solvated\", mol_tmc, AMBER_WATER, cubesize=30, folder=mol_tmc.folder)\n",
    "system.set_closeness(automate=True)\n",
    "TleapDocker(workfolder=mol_tmc.folder).run(system)\n",
    "\n",
    "\n",
    "amber_prmtop = pmd.amber.AmberParm(system.prmtop, xyz = system.pdb)\n",
    "amber_prmtop.save(os.path.join(system.folder, system.name + \".mol2\"), format = \"mol2\", overwrite=True)"
   ]
  },
  {
   "cell_type": "code",
   "execution_count": 13,
   "metadata": {},
   "outputs": [
    {
     "data": {
      "text/plain": [
       "Counter({'CO1': 1, 'L01': 1, 'L11': 1, 'L21': 1, 'Cl-': 3, 'WAT': 2465})"
      ]
     },
     "execution_count": 13,
     "metadata": {},
     "output_type": "execute_result"
    }
   ],
   "source": [
    "amber_prmtop.residues\n",
    "from collections import Counter\n",
    "\n",
    "Counter([res.name for res in amber_prmtop.residues])"
   ]
  },
  {
   "cell_type": "code",
   "execution_count": 17,
   "metadata": {},
   "outputs": [
    {
     "data": {
      "text/plain": [
       "array([[-9.0000e-03, -4.7700e-01, -2.6000e-02],\n",
       "       [ 7.5000e-01,  9.7800e-01,  1.0240e+00],\n",
       "       [ 1.5710e+00,  8.4700e-01,  2.0930e+00],\n",
       "       ...,\n",
       "       [-1.2179e+01, -1.0648e+01, -1.0063e+01],\n",
       "       [-1.1387e+01, -1.1143e+01, -1.0270e+01],\n",
       "       [-1.1886e+01, -9.9690e+00, -9.4550e+00]])"
      ]
     },
     "execution_count": 17,
     "metadata": {},
     "output_type": "execute_result"
    }
   ],
   "source": [
    "a = os.path.join(system.folder, system.name + \".pdb\")\n",
    "pdbfile = pmd.load_file(a)\n",
    "pdbfile.coordinates"
   ]
  },
  {
   "cell_type": "code",
   "execution_count": 20,
   "metadata": {},
   "outputs": [
    {
     "data": {
      "text/plain": [
       "7459"
      ]
     },
     "execution_count": 20,
     "metadata": {},
     "output_type": "execute_result"
    }
   ],
   "source": [
    "len(pdbfile.atoms)"
   ]
  },
  {
   "cell_type": "code",
   "execution_count": 3,
   "metadata": {},
   "outputs": [
    {
     "name": "stderr",
     "output_type": "stream",
     "text": [
      "1 molecule converted\n"
     ]
    }
   ],
   "source": [
    "automcpb_folder = \"/home/fren5/AutoSolvae-update/FFgen\" \n",
    "tmcpdb = os.path.join(automcpb_folder, \"Co_plus3_dry.pdb\")\n",
    "prmtop = os.path.join(automcpb_folder, \"Co_plus3_dry.prmtop\")\n",
    "\n",
    "mol_tmc = TransitionMetalComplex(tmcpdb, 3, 1, prmtop, automcpb_folder, \n",
    "                                 metal_residue_names = [\"CO1\"], \n",
    "                                 name = \"Co_plus3_bpy3\",\n",
    "                                 residue_name = \"TMC\", \n",
    "                                 folder = \"test_acnsolvated\")\n",
    "mol_tmc.update()\n",
    "\n",
    "solvent = Molecule(\"/home/fren5/AutoSolvae-update/ch3cn/ch3cn.pdb\", 0, 1, \"solvent\", residue_name = \"C3N\", folder = mol_tmc.folder)\n",
    "solvent.frcmod = \"/home/fren5/AutoSolvae-update/ch3cn/ch3cn.frcmod\"\n",
    "solvent.prep   = \"/home/fren5/AutoSolvae-update/ch3cn/ch3cn.prep\"\n",
    "\n",
    "system = SolvatedSystem(\"Co_plus3_bpy3_acn_solvated\", mol_tmc, solvent, cubesize=30, folder=mol_tmc.folder, solute_number=1, solvent_number=400)\n",
    "system.set_closeness(automate=True)\n",
    "PackmolDocker(workfolder=mol_tmc.folder).run(system)\n",
    "TleapDocker(workfolder=mol_tmc.folder).run(system)\n",
    "\n",
    "\n",
    "amber_prmtop = pmd.amber.AmberParm(system.prmtop, xyz = system.pdb)\n",
    "amber_prmtop.save(os.path.join(system.folder, system.name + \".mol2\"), format = \"mol2\", overwrite=True)"
   ]
  },
  {
   "cell_type": "code",
   "execution_count": 2,
   "metadata": {},
   "outputs": [
    {
     "name": "stderr",
     "output_type": "stream",
     "text": [
      "1 molecule converted\n",
      "1 molecule converted\n"
     ]
    }
   ],
   "source": [
    "automcpb_folder = \"/home/fren5/AutoSolvae-update/FFgen\" \n",
    "tmcpdb = os.path.join(automcpb_folder, \"Co_plus3_dry.pdb\")\n",
    "prmtop = os.path.join(automcpb_folder, \"Co_plus3_dry.prmtop\")\n",
    "\n",
    "mol_tmc = TransitionMetalComplex(tmcpdb, 3, 1, prmtop, automcpb_folder, \n",
    "                                 metal_residue_names = [\"CO1\"], \n",
    "                                 name = \"Co_plus3_bpy3\",\n",
    "                                 residue_name = \"TMC\", \n",
    "                                 folder = \"test_tmc\")\n",
    "mol_tmc.update()\n",
    "\n",
    "mol_cat = Molecule(\"/home/fren5/AutoSolvae-update/IL-test/amberparms/BMIM/BMIM.pdb\", 1, 1, \n",
    "                   name = \"BMIM\", residue_name = \"BMI\", folder = \"test_tmc\")\n",
    "mol_cat.mol2 = \"/home/fren5/AutoSolvae-update/IL-test/amberparms/BMIM/BMIM.mol2\"\n",
    "mol_cat.frcmod = \"/home/fren5/AutoSolvae-update/IL-test/amberparms/BMIM/BMIM.frcmod\"\n",
    "mol_cat.update()\n",
    "\n",
    "\n",
    "mol_ani = Molecule(\"/home/fren5/AutoSolvae-update/IL-test/amberparms/NTF2/NTF2.pdb\",-1, 1,\n",
    "                     name = \"NTF2\", residue_name = \"NSC\", folder = \"test_tmc\")\n",
    "mol_ani.mol2 = \"/home/fren5/AutoSolvae-update/IL-test/amberparms/NTF2/NTF2.mol2\"\n",
    "mol_ani.frcmod = \"/home/fren5/AutoSolvae-update/IL-test/amberparms/NTF2/NTF2.frcmod\"\n",
    "mol_ani.update()\n",
    "\n",
    "system = SolvatedSystem(\"Co_plus3_bpy3_IL_solvated\", solute = mol_tmc, solvent = [mol_cat, mol_ani],  \n",
    "                        cubesize=30, closeness=2.0, solute_number=2, solvent_number=[50, 50], folder = \"test_tmc\")\n"
   ]
  }
 ],
 "metadata": {
  "kernelspec": {
   "display_name": "Python 3",
   "language": "python",
   "name": "python3"
  },
  "language_info": {
   "codemirror_mode": {
    "name": "ipython",
    "version": 3
   },
   "file_extension": ".py",
   "mimetype": "text/x-python",
   "name": "python",
   "nbconvert_exporter": "python",
   "pygments_lexer": "ipython3",
   "version": "3.8.18"
  }
 },
 "nbformat": 4,
 "nbformat_minor": 2
}
