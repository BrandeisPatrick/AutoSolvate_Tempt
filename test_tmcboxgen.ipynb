{
 "cells": [
  {
   "cell_type": "code",
   "execution_count": 1,
   "metadata": {},
   "outputs": [
    {
     "name": "stdout",
     "output_type": "stream",
     "text": [
      "/home/fren5/AutoSolvae-update/AutoSolvate/autosolvate/dockers/_general_docker.py autosolvate.dockers\n"
     ]
    }
   ],
   "source": [
    "from autosolvate.autosolvate import *\n",
    "from autosolvate.molecule import * \n",
    "from autosolvate.dockers import *\n",
    "\n",
    "import os "
   ]
  },
  {
   "cell_type": "code",
   "execution_count": 2,
   "metadata": {},
   "outputs": [
    {
     "name": "stderr",
     "output_type": "stream",
     "text": [
      "1 molecule converted\n",
      "1 molecule converted\n"
     ]
    }
   ],
   "source": [
    "automcpb_folder = \"/home/fren5/AutoSolvae-update/FFgen\" \n",
    "tmcpdb = os.path.join(automcpb_folder, \"Co_plus3_dry.pdb\")\n",
    "prmtop = os.path.join(automcpb_folder, \"Co_plus3_dry.prmtop\")\n",
    "\n",
    "mol_tmc = TransitionMetalComplex(tmcpdb, 3, 1, prmtop, automcpb_folder, \n",
    "                                 metal_residue_names = [\"CO1\"], \n",
    "                                 name = \"Co_plus3_bpy3\",\n",
    "                                 residue_name = \"TMC\", \n",
    "                                 folder = \"test_tmc\")\n",
    "mol_tmc.update()\n",
    "\n",
    "mol_cat = Molecule(\"/home/fren5/AutoSolvae-update/IL-test/amberparms/BMIM/BMIM.pdb\", 1, 1, \n",
    "                   name = \"BMIM\", residue_name = \"BMI\", folder = \"test_tmc\")\n",
    "mol_cat.mol2 = \"/home/fren5/AutoSolvae-update/IL-test/amberparms/BMIM/BMIM.mol2\"\n",
    "mol_cat.frcmod = \"/home/fren5/AutoSolvae-update/IL-test/amberparms/BMIM/BMIM.frcmod\"\n",
    "mol_cat.update()\n",
    "\n",
    "\n",
    "mol_ani = Molecule(\"/home/fren5/AutoSolvae-update/IL-test/amberparms/NTF2/NTF2.pdb\",-1, 1,\n",
    "                     name = \"NTF2\", residue_name = \"NSC\", folder = \"test_tmc\")\n",
    "mol_ani.mol2 = \"/home/fren5/AutoSolvae-update/IL-test/amberparms/NTF2/NTF2.mol2\"\n",
    "mol_ani.frcmod = \"/home/fren5/AutoSolvae-update/IL-test/amberparms/NTF2/NTF2.frcmod\"\n",
    "mol_ani.update()\n",
    "\n",
    "system = SolvatedSystem(\"Co_plus3_bpy3_IL_solvated\", solute = mol_tmc, solvent = [mol_cat, mol_ani],  \n",
    "                        cubesize=30, closeness=2.0, solute_number=2, solvent_number=[50, 50], folder = \"test_tmc\")\n"
   ]
  },
  {
   "cell_type": "code",
   "execution_count": 3,
   "metadata": {},
   "outputs": [],
   "source": [
    "\n",
    "docker = PackmolDocker(system.folder)\n",
    "docker.run(system)\n",
    "\n",
    "docker = TleapDocker(system.folder)\n",
    "docker.run(system)\n"
   ]
  },
  {
   "cell_type": "code",
   "execution_count": null,
   "metadata": {},
   "outputs": [
    {
     "name": "stderr",
     "output_type": "stream",
     "text": [
      "22:09:56 CheckExecutable WARNING: The 'lib' file of system 'Co_plus3_bpy3_IL_solvated' is set to a non-existent path '/home/fren5/AutoSolvae-update/AutoSolvate/test_tmc/Co_plus3_bpy3_IL_solvated.lib'\n"
     ]
    }
   ],
   "source": []
  },
  {
   "cell_type": "code",
   "execution_count": 10,
   "metadata": {},
   "outputs": [],
   "source": [
    "import parmed as pmd \n",
    "\n",
    "amber_prmtop = pmd.amber.AmberParm(system.prmtop, xyz = system.pdb)\n",
    "amber_prmtop.save(os.path.join(system.folder, system.name + \".mol2\"), format = \"mol2\")"
   ]
  },
  {
   "cell_type": "code",
   "execution_count": 3,
   "metadata": {},
   "outputs": [],
   "source": [
    "amber_prmtop = amber.AmberParm(\"Co_plus3_dry.prmtop\", xyz = \"Co_plus3_dry.pdb\")\n",
    "amber_params = amber.AmberParameterSet().from_structure(amber_prmtop)\n",
    "amber_prmtop.save(\"Co_plus3_dry.mol2\", format = \"mol2\", overwrite=True)\n",
    "amber_params.write(\"Co_plus3_dry.frcmod\")\n"
   ]
  },
  {
   "cell_type": "code",
   "execution_count": 4,
   "metadata": {},
   "outputs": [
    {
     "data": {
      "text/plain": [
       "'M1'"
      ]
     },
     "execution_count": 4,
     "metadata": {},
     "output_type": "execute_result"
    }
   ],
   "source": [
    "structure = amber_prmtop\n",
    "\n",
    "structure.residues[0]:Residue\n",
    "structure.residues[0].atoms[0].type"
   ]
  },
  {
   "cell_type": "code",
   "execution_count": 12,
   "metadata": {},
   "outputs": [
    {
     "data": {
      "text/plain": [
       "(61, 3)"
      ]
     },
     "execution_count": 12,
     "metadata": {},
     "output_type": "execute_result"
    }
   ],
   "source": [
    "atom = structure.residues[0].atoms[0]\n",
    "amber_prmtop.coordinates.shape"
   ]
  },
  {
   "cell_type": "code",
   "execution_count": 17,
   "metadata": {},
   "outputs": [],
   "source": [
    "from openbabel import pybel\n",
    "from openbabel import openbabel as ob\n",
    "\n",
    "mol = pybel.readfile(\"pdb\", \"/home/fren5/AutoSolvae-update/Co_plus3_bpy3_IL_solvated/Co_plus3_bpy3_IL_solvated.pdb\")\n",
    "mol = mol.__next__().OBMol"
   ]
  },
  {
   "cell_type": "code",
   "execution_count": 22,
   "metadata": {},
   "outputs": [
    {
     "ename": "AttributeError",
     "evalue": "'OBResidue' object has no attribute 'GetAtom'",
     "output_type": "error",
     "traceback": [
      "\u001b[0;31m---------------------------------------------------------------------------\u001b[0m",
      "\u001b[0;31mAttributeError\u001b[0m                            Traceback (most recent call last)",
      "Cell \u001b[0;32mIn[22], line 2\u001b[0m\n\u001b[1;32m      1\u001b[0m res \u001b[38;5;241m=\u001b[39m mol\u001b[38;5;241m.\u001b[39mGetResidue(\u001b[38;5;241m0\u001b[39m)\n\u001b[0;32m----> 2\u001b[0m \u001b[43mres\u001b[49m\u001b[38;5;241;43m.\u001b[39;49m\u001b[43mGetAtom\u001b[49m(\u001b[38;5;241m0\u001b[39m)\u001b[38;5;241m.\u001b[39mGetIdx()\n",
      "\u001b[0;31mAttributeError\u001b[0m: 'OBResidue' object has no attribute 'GetAtom'"
     ]
    }
   ],
   "source": [
    "\n",
    "res = mol.GetResidue(0)\n"
   ]
  },
  {
   "cell_type": "code",
   "execution_count": 24,
   "metadata": {},
   "outputs": [
    {
     "data": {
      "text/plain": [
       "<Structure 2061 atoms; 104 residues; 2013 bonds; PBC (orthogonal); NOT parameterized>"
      ]
     },
     "execution_count": 24,
     "metadata": {},
     "output_type": "execute_result"
    }
   ],
   "source": [
    "import parmed as pmd \n",
    "solvated_sys = pmd.load_file(\"/home/fren5/AutoSolvae-update/Co_plus3_bpy3_IL_solvated/Co_plus3_bpy3_IL_solvated.pdb\")\n",
    "solvated_sys:pmd.Structure"
   ]
  },
  {
   "cell_type": "code",
   "execution_count": null,
   "metadata": {},
   "outputs": [],
   "source": [
    "mol_tmc = Molecule(\"Co_plus3_dry.pdb\", charge = 3, multiplicity=1, name = \"Co_plus3_bpy3\", folder = \"Co_plus3_bpy3\")\n",
    "mol_tmc.frcmod = \"Co_plus3_dry.frcmod\"\n",
    "mol_tmc.mol2 = \"Co_plus3_dry.mol2\"\n",
    "mol_tmc.update()\n",
    "\n",
    "mol_cat = Molecule(\"/home/fren5/AutoSolvae-update/IL-test/amberparms/BMIM/BMIM.pdb\", 1, 1, \n",
    "                   name = \"BMIM\", residue_name = \"BMI\", folder = \"BMIM\")\n",
    "mol_cat.mol2 = \"/home/fren5/AutoSolvae-update/IL-test/amberparms/BMIM/BMIM.mol2\"\n",
    "mol_cat.frcmod = \"/home/fren5/AutoSolvae-update/IL-test/amberparms/BMIM/BMIM.frcmod\"\n",
    "mol_cat.update()\n",
    "\n",
    "\n",
    "mol_ani = Molecule(\"/home/fren5/AutoSolvae-update/IL-test/amberparms/NTF2/NTF2.pdb\",-1, 1,\n",
    "                     name = \"NTF2\", residue_name = \"NSC\", folder = \"NTF2\")\n",
    "mol_ani.mol2 = \"/home/fren5/AutoSolvae-update/IL-test/amberparms/NTF2/NTF2.mol2\"\n",
    "mol_ani.frcmod = \"/home/fren5/AutoSolvae-update/IL-test/amberparms/NTF2/NTF2.frcmod\"\n",
    "mol_ani.update()\n",
    "\n",
    "system = SolvatedSystem(\"Co_plus3_bpy3_IL_solvated\", solute = mol_tmc, solvent = [mol_cat, mol_ani],  \n",
    "                        cubesize=30, closeness=2.0, solute_number=1, solvent_number=[50, 50], folder = \"Co_plus3_bpy3_IL_solvated\")\n",
    "\n",
    "docker = PackmolDocker(system.folder)\n",
    "docker.run(system)\n",
    "\n",
    "docker = TleapDocker(system.folder)\n",
    "docker.run(system)"
   ]
  },
  {
   "cell_type": "code",
   "execution_count": null,
   "metadata": {},
   "outputs": [],
   "source": [
    "mol_cat = Molecule(\"/home/fren5/AutoSolvae-update/IL-test/amberparms/BMIM/BMIM.pdb\", 1, 1, \n",
    "                   name = \"BMIM\", residue_name = \"BMI\", folder = \"BMIM\")\n",
    "mol_cat.mol2 = \"/home/fren5/AutoSolvae-update/IL-test/amberparms/BMIM/BMIM.mol2\"\n",
    "mol_cat.frcmod = \"/home/fren5/AutoSolvae-update/IL-test/amberparms/BMIM/BMIM.frcmod\"\n",
    "\n",
    "\n",
    "mol_ani = Molecule(\"/home/fren5/AutoSolvae-update/IL-test/amberparms/NTF2/NTF2.pdb\",-1, 1,\n",
    "                     name = \"NTF2\", residue_name = \"NSC\", folder = \"NTF2\")\n",
    "mol_ani.mol2 = \"/home/fren5/AutoSolvae-update/IL-test/amberparms/NTF2/NTF2.mol2\"\n",
    "mol_ani.frcmod = \"/home/fren5/AutoSolvae-update/IL-test/amberparms/NTF2/NTF2.frcmod\"\n",
    "\n",
    "system = SolvatedSystem(\"ionic_liquid\", solute = None, solvent = [mol_cat, mol_ani],  \n",
    "                        cubesize=30, closeness=2.0, solute_number=0, solvent_number=[50, 50], folder = \"ionic_liquid\")\n",
    "\n",
    "docker = PackmolDocker(system.folder)\n",
    "docker.run(system)\n",
    "\n",
    "docker = TleapDocker(system.folder)\n",
    "docker.run(system)"
   ]
  },
  {
   "cell_type": "code",
   "execution_count": 5,
   "metadata": {},
   "outputs": [
    {
     "name": "stderr",
     "output_type": "stream",
     "text": [
      "==============================\n",
      "*** Open Babel Warning  in PerceiveBondOrders\n",
      "  Failed to kekulize aromatic bonds in OBMol::PerceiveBondOrders (title is /home/fren5/AutoSolvae-update/IL-test/amberparms/OMIM/OMIM.pdb)\n",
      "\n",
      "1 molecule converted\n",
      "20:35:11 Molecule INFO: set the '_FILEATTR_FILEPATH_DICT' attribute of system 'OMIM' as a dict\n",
      "20:35:11 Molecule INFO: Created folder /home/fren5/AutoSolvae-update/OMIM for system OMIM\n",
      "20:35:11 Molecule INFO: Copied 'xyz' file of system '/home/fren5/AutoSolvae-update/IL-test/amberparms/OMIM/OMIM.xyz' to '/home/fren5/AutoSolvae-update/OMIM/OMIM.xyz'\n",
      "20:35:11 Molecule INFO: set the 'xyz' file of system 'OMIM' to '/home/fren5/AutoSolvae-update/OMIM/OMIM.xyz'\n",
      "20:35:11 Molecule INFO: Copied 'pdb' file of system '/home/fren5/AutoSolvae-update/IL-test/amberparms/OMIM/OMIM.pdb' to '/home/fren5/AutoSolvae-update/OMIM/OMIM.pdb'\n",
      "20:35:11 Molecule INFO: set the 'pdb' file of system 'OMIM' to '/home/fren5/AutoSolvae-update/OMIM/OMIM.pdb'\n",
      "20:35:11 Molecule INFO: set the 'mol2' file of system 'OMIM' to '/home/fren5/AutoSolvae-update/IL-test/amberparms/OMIM/OMIM.mol2'\n",
      "20:35:11 Molecule INFO: set the 'frcmod' file of system 'OMIM' to '/home/fren5/AutoSolvae-update/IL-test/amberparms/OMIM/OMIM.frcmod'\n",
      "1 molecule converted\n",
      "20:35:11 Molecule INFO: set the '_FILEATTR_FILEPATH_DICT' attribute of system 'NTF2' as a dict\n",
      "20:35:11 Molecule WARNING: A folder named /home/fren5/AutoSolvae-update/NTF2 already exists\n",
      "20:35:11 Molecule INFO: Copied 'xyz' file of system '/home/fren5/AutoSolvae-update/IL-test/amberparms/NTF2/NTF2.xyz' to '/home/fren5/AutoSolvae-update/NTF2/NTF2.xyz'\n",
      "20:35:11 Molecule INFO: File /home/fren5/AutoSolvae-update/NTF2/NTF2.xyz was rewritten\n",
      "20:35:11 Molecule INFO: set the 'xyz' file of system 'NTF2' to '/home/fren5/AutoSolvae-update/NTF2/NTF2.xyz'\n",
      "20:35:11 Molecule INFO: Copied 'pdb' file of system '/home/fren5/AutoSolvae-update/IL-test/amberparms/NTF2/NTF2.pdb' to '/home/fren5/AutoSolvae-update/NTF2/NTF2.pdb'\n",
      "20:35:11 Molecule INFO: File /home/fren5/AutoSolvae-update/NTF2/NTF2.pdb was rewritten\n",
      "20:35:11 Molecule INFO: set the 'pdb' file of system 'NTF2' to '/home/fren5/AutoSolvae-update/NTF2/NTF2.pdb'\n",
      "20:35:12 Molecule INFO: set the 'mol2' file of system 'NTF2' to '/home/fren5/AutoSolvae-update/IL-test/amberparms/NTF2/NTF2.mol2'\n",
      "20:35:12 Molecule INFO: set the 'frcmod' file of system 'NTF2' to '/home/fren5/AutoSolvae-update/IL-test/amberparms/NTF2/NTF2.frcmod'\n",
      "==============================\n",
      "*** Open Babel Warning  in parseAtomRecord\n",
      "  WARNING: Problems reading a PDB file\n",
      "  Problems reading a HETATM or ATOM record.\n",
      "  According to the PDB specification,\n",
      "  columns 77-78 should contain the element symbol of an atom.\n",
      "  but OpenBabel found '  ' (atom 1)\n",
      "==============================\n",
      "*** Open Babel Warning  in parseAtomRecord\n",
      "  WARNING: Problems reading a PDB file\n",
      "  Problems reading a HETATM or ATOM record.\n",
      "  According to the PDB specification,\n",
      "  columns 77-78 should contain the element symbol of an atom.\n",
      "  but OpenBabel found '  ' (atom 2)\n",
      "==============================\n",
      "*** Open Babel Warning  in parseAtomRecord\n",
      "  WARNING: Problems reading a PDB file\n",
      "  Problems reading a HETATM or ATOM record.\n",
      "  According to the PDB specification,\n",
      "  columns 77-78 should contain the element symbol of an atom.\n",
      "  but OpenBabel found '  ' (atom 3)\n",
      "==============================\n",
      "*** Open Babel Warning  in parseAtomRecord\n",
      "  WARNING: Problems reading a PDB file\n",
      "  Problems reading a HETATM or ATOM record.\n",
      "  According to the PDB specification,\n",
      "  columns 77-78 should contain the element symbol of an atom.\n",
      "  but OpenBabel found '  ' (atom 4)\n",
      "==============================\n",
      "*** Open Babel Warning  in parseAtomRecord\n",
      "  WARNING: Problems reading a PDB file\n",
      "  Problems reading a HETATM or ATOM record.\n",
      "  According to the PDB specification,\n",
      "  columns 77-78 should contain the element symbol of an atom.\n",
      "  but OpenBabel found '  ' (atom 5)\n",
      "==============================\n",
      "*** Open Babel Warning  in parseAtomRecord\n",
      "  WARNING: Problems reading a PDB file\n",
      "  Problems reading a HETATM or ATOM record.\n",
      "  According to the PDB specification,\n",
      "  columns 77-78 should contain the element symbol of an atom.\n",
      "  but OpenBabel found '  ' (atom 6)\n",
      "1 molecule converted\n",
      "20:35:12 Molecule INFO: set the '_FILEATTR_FILEPATH_DICT' attribute of system 'CH3CN' as a dict\n",
      "20:35:12 Molecule WARNING: A folder named /home/fren5/AutoSolvae-update/CH3CN already exists\n",
      "20:35:12 Molecule INFO: Copied 'xyz' file of system '/home/fren5/AutoSolvae-update/ch3cn/ch3cn.xyz' to '/home/fren5/AutoSolvae-update/CH3CN/ch3cn.xyz'\n",
      "20:35:12 Molecule INFO: File /home/fren5/AutoSolvae-update/CH3CN/ch3cn.xyz was rewritten\n",
      "20:35:12 Molecule INFO: set the 'xyz' file of system 'CH3CN' to '/home/fren5/AutoSolvae-update/CH3CN/ch3cn.xyz'\n",
      "20:35:12 Molecule INFO: Copied 'pdb' file of system '/home/fren5/AutoSolvae-update/ch3cn/ch3cn.pdb' to '/home/fren5/AutoSolvae-update/CH3CN/ch3cn.pdb'\n",
      "20:35:12 Molecule INFO: File /home/fren5/AutoSolvae-update/CH3CN/ch3cn.pdb was rewritten\n",
      "20:35:12 Molecule INFO: set the 'pdb' file of system 'CH3CN' to '/home/fren5/AutoSolvae-update/CH3CN/ch3cn.pdb'\n",
      "20:35:12 Molecule INFO: set the 'prep' file of system 'CH3CN' to '/home/fren5/AutoSolvae-update/ch3cn/ch3cn.prep'\n",
      "20:35:12 Molecule INFO: set the 'frcmod' file of system 'CH3CN' to '/home/fren5/AutoSolvae-update/ch3cn/ch3cn.frcmod'\n",
      "20:35:12 Molecule INFO: set the '_FILEATTR_FILEPATH_DICT' attribute of system 'ionic_liquid_acn_mixture' as a dict\n",
      "20:35:12 Molecule WARNING: A folder named /home/fren5/AutoSolvae-update/ionic_liquid_acn_mixture already exists\n",
      "20:35:12 SolvatedSystem INFO: Use solute: OMIM\n",
      "20:35:12 SolvatedSystem INFO: Use solute: OMIM\n",
      "20:35:12 SolvatedSystem INFO: Number of solute OMIM : 25\n",
      "20:35:12 Molecule INFO: set the 'number' attribute of system 'OMIM' as a int\n",
      "20:35:12 SolvatedSystem INFO: Use solute: NTF2\n",
      "20:35:12 SolvatedSystem INFO: Use solute: NTF2\n",
      "20:35:12 SolvatedSystem INFO: Number of solute NTF2 : 25\n",
      "20:35:12 Molecule INFO: set the 'number' attribute of system 'NTF2' as a int\n",
      "20:35:12 SolvatedSystem WARNING: More than one solute molecule is given. The relative position between solute molecules will be randomly generated\n",
      "20:35:12 SolvatedSystem WARNING: If you want to keep the relative position, please prepare a molecule using a single xyz/pdb file contains all fragments.\n",
      "20:35:12 SolvatedSystem INFO: Use custom built solvent: CH3CN\n",
      "20:35:12 Molecule INFO: set the 'number' attribute of system 'CH3CN' as a int\n",
      "20:35:12 Molecule INFO: set the 'netcharge' attribute of system 'ionic_liquid_acn_mixture' as a int\n",
      "20:35:12 Molecule INFO: set the 'netcharge' attribute of system 'ionic_liquid_acn_mixture' as a int\n",
      "20:35:12 Molecule INFO: set the 'netcharge' attribute of system 'ionic_liquid_acn_mixture' as a int\n",
      "20:35:12 SolvatedSystem INFO: Net charge: 0\n",
      "20:35:12 PackmolDocker INFO: Input system: ionic_liquid_acn_mixture\n",
      "20:35:12 PackmolDocker INFO: tolerance: 2.0\n",
      "20:35:12 PackmolDocker WARNING: The input system contains more than one kind of solutes! Position of solutes will be randomly generated!\n",
      "20:35:12 PackmolDocker INFO: Solute: OMIM\n",
      "20:35:12 PackmolDocker INFO: \t PDB: /home/fren5/AutoSolvae-update/OMIM/OMIM.pdb\n",
      "20:35:12 PackmolDocker INFO: \t charge: 1\n",
      "20:35:12 PackmolDocker INFO: \t multiplicity: 1\n",
      "20:35:12 PackmolDocker INFO: \t solute count: 25\n",
      "20:35:12 PackmolDocker WARNING: The solute OMIM has more than one molecule, the position of solvents will be randomly generated!\n",
      "20:35:12 PackmolDocker INFO: Solute: NTF2\n",
      "20:35:12 PackmolDocker INFO: \t PDB: /home/fren5/AutoSolvae-update/NTF2/NTF2.pdb\n",
      "20:35:12 PackmolDocker INFO: \t charge: -1\n",
      "20:35:12 PackmolDocker INFO: \t multiplicity: 1\n",
      "20:35:12 PackmolDocker INFO: \t solute count: 25\n",
      "20:35:12 PackmolDocker WARNING: The solute NTF2 has more than one molecule, the position of solvents will be randomly generated!\n",
      "20:35:12 PackmolDocker INFO: Solvent: CH3CN\n",
      "20:35:12 PackmolDocker INFO: \t PDB: /home/fren5/AutoSolvae-update/CH3CN/ch3cn.pdb\n",
      "20:35:12 PackmolDocker INFO: \t charge: 0\n",
      "20:35:12 PackmolDocker INFO: \t multiplicity: 1\n",
      "20:35:12 PackmolDocker INFO: \t solvent count: 1700\n",
      "20:35:12 PackmolDocker INFO: The packmol input file will be generated at /home/fren5/AutoSolvae-update/ionic_liquid_acn_mixture/ionic_liquid_acn_mixture_packmol.inp\n",
      "20:35:12 PackmolDocker WARNING: Found a existing file with the same name: /home/fren5/AutoSolvae-update/ionic_liquid_acn_mixture/ionic_liquid_acn_mixture_packmol.inp\n",
      "20:35:12 PackmolDocker WARNING: This file will be Overwritten!\n",
      "20:35:12 PackmolDocker INFO: The packmol output file will be generated at /home/fren5/AutoSolvae-update/ionic_liquid_acn_mixture/ionic_liquid_acn_mixture_packmol.out\n",
      "20:35:12 PackmolDocker WARNING: Found a existing file with the same name: /home/fren5/AutoSolvae-update/ionic_liquid_acn_mixture/ionic_liquid_acn_mixture_packmol.out\n",
      "20:35:12 PackmolDocker WARNING: This file will be Overwritten!\n",
      "20:35:12 PackmolDocker INFO: The pdb file will be generated at /home/fren5/AutoSolvae-update/ionic_liquid_acn_mixture/ionic_liquid_acn_mixture.pdb\n",
      "20:35:12 PackmolDocker WARNING: Found a existing file with the same name: /home/fren5/AutoSolvae-update/ionic_liquid_acn_mixture/ionic_liquid_acn_mixture.pdb\n",
      "20:35:12 PackmolDocker WARNING: This file will be Overwritten!\n",
      "20:35:12 PackmolDocker INFO: Running packmol ...\n",
      "20:35:12 PackmolDocker INFO: Packmol command: packmol < /home/fren5/AutoSolvae-update/ionic_liquid_acn_mixture/ionic_liquid_acn_mixture_packmol.inp > /home/fren5/AutoSolvae-update/ionic_liquid_acn_mixture/ionic_liquid_acn_mixture_packmol.out\n",
      "20:35:12 PackmolDocker INFO: CMD: packmol < /home/fren5/AutoSolvae-update/ionic_liquid_acn_mixture/ionic_liquid_acn_mixture_packmol.inp > /home/fren5/AutoSolvae-update/ionic_liquid_acn_mixture/ionic_liquid_acn_mixture_packmol.out\n",
      "20:35:32 PackmolDocker INFO: Packmol successfully generated the system pdb: /home/fren5/AutoSolvae-update/ionic_liquid_acn_mixture/ionic_liquid_acn_mixture.pdb\n",
      "20:35:32 PackmolDocker INFO: Adding TER section in the packmol generated pdb /home/fren5/AutoSolvae-update/ionic_liquid_acn_mixture/ionic_liquid_acn_mixture.pdb ...\n",
      "20:35:32 PackmolDocker INFO: The system pdb has been successfully processed.\n",
      "20:35:32 Molecule INFO: set the 'pdb' file of system 'ionic_liquid_acn_mixture' to '/home/fren5/AutoSolvae-update/ionic_liquid_acn_mixture/ionic_liquid_acn_mixture.pdb'\n",
      "20:35:32 TleapDocker INFO: Checking system ionic_liquid_acn_mixture...\n",
      "20:35:32 TleapDocker INFO: Box size: 50.00 50.00 50.00\n",
      "20:35:32 TleapDocker INFO: Solutes in this system: ['OMIM', 'NTF2']\n",
      "20:35:32 TleapDocker INFO: Checking solute OMIM...\n",
      "20:35:32 TleapDocker INFO: Number of OMIM: 25\n",
      "20:35:32 TleapDocker INFO: Checking system OMIM...\n",
      "20:35:32 TleapDocker INFO: \t System mol2: /home/fren5/AutoSolvae-update/IL-test/amberparms/OMIM/OMIM.mol2\n",
      "20:35:32 TleapDocker INFO: \t System lib not found\n",
      "20:35:32 TleapDocker INFO: \t System prep not found\n",
      "20:35:32 TleapDocker INFO: \t System off not found\n",
      "20:35:32 TleapDocker INFO: \t System frcmod: /home/fren5/AutoSolvae-update/IL-test/amberparms/OMIM/OMIM.frcmod\n",
      "20:35:32 TleapDocker INFO: Add a box with shape [50. 50. 50.]\n",
      "20:35:32 TleapDocker INFO: Checking solute NTF2...\n",
      "20:35:32 TleapDocker INFO: Number of NTF2: 25\n",
      "20:35:32 TleapDocker INFO: Checking system NTF2...\n",
      "20:35:32 TleapDocker INFO: \t System mol2: /home/fren5/AutoSolvae-update/IL-test/amberparms/NTF2/NTF2.mol2\n",
      "20:35:32 TleapDocker INFO: \t System lib not found\n",
      "20:35:32 TleapDocker INFO: \t System prep not found\n",
      "20:35:32 TleapDocker INFO: \t System off not found\n",
      "20:35:32 TleapDocker INFO: \t System frcmod: /home/fren5/AutoSolvae-update/IL-test/amberparms/NTF2/NTF2.frcmod\n",
      "20:35:32 TleapDocker INFO: Add a box with shape [50. 50. 50.]\n",
      "20:35:32 TleapDocker INFO: Checking solvent CH3CN...\n",
      "20:35:32 TleapDocker INFO: Custom solvent detected\n",
      "20:35:32 TleapDocker INFO: Number of CH3CN: 1700\n",
      "20:35:32 TleapDocker INFO: Checking system CH3CN...\n",
      "20:35:32 TleapDocker INFO: \t System mol2 not found\n",
      "20:35:32 TleapDocker INFO: \t System lib not found\n",
      "20:35:32 TleapDocker INFO: \t System prep: /home/fren5/AutoSolvae-update/ch3cn/ch3cn.prep\n",
      "20:35:32 TleapDocker INFO: \t System off not found\n",
      "20:35:32 TleapDocker INFO: \t System frcmod: /home/fren5/AutoSolvae-update/ch3cn/ch3cn.frcmod\n",
      "20:35:32 TleapDocker INFO: Add a box with shape [50. 50. 50.]\n",
      "20:35:32 TleapDocker INFO: The pdb file will be generated at /home/fren5/AutoSolvae-update/ionic_liquid_acn_mixture/ionic_liquid_acn_mixture.pdb\n",
      "20:35:32 TleapDocker WARNING: Found a existing file with the same name: /home/fren5/AutoSolvae-update/ionic_liquid_acn_mixture/ionic_liquid_acn_mixture.pdb\n",
      "20:35:32 TleapDocker WARNING: This file will be Overwritten!\n",
      "20:35:32 TleapDocker INFO: The lib file will be generated at /home/fren5/AutoSolvae-update/ionic_liquid_acn_mixture/ionic_liquid_acn_mixture.lib\n",
      "20:35:32 TleapDocker INFO: The mol2 file will be generated at /home/fren5/AutoSolvae-update/ionic_liquid_acn_mixture/ionic_liquid_acn_mixture.mol2\n",
      "20:35:32 TleapDocker INFO: The prmtop file will be generated at /home/fren5/AutoSolvae-update/ionic_liquid_acn_mixture/ionic_liquid_acn_mixture.prmtop\n",
      "20:35:32 TleapDocker WARNING: Found a existing file with the same name: /home/fren5/AutoSolvae-update/ionic_liquid_acn_mixture/ionic_liquid_acn_mixture.prmtop\n",
      "20:35:32 TleapDocker WARNING: This file will be Overwritten!\n",
      "20:35:32 TleapDocker INFO: The inpcrd file will be generated at /home/fren5/AutoSolvae-update/ionic_liquid_acn_mixture/ionic_liquid_acn_mixture.inpcrd\n",
      "20:35:32 TleapDocker INFO: The tleap input file will be generated at /home/fren5/AutoSolvae-update/ionic_liquid_acn_mixture/leap_ionic_liquid_acn_mixture.cmd\n",
      "20:35:32 TleapDocker INFO: The tleap output file will be generated at /home/fren5/AutoSolvae-update/ionic_liquid_acn_mixture/leap_ionic_liquid_acn_mixture.log\n",
      "20:35:32 TleapDocker INFO: Tleap input file: /home/fren5/AutoSolvae-update/ionic_liquid_acn_mixture/leap_ionic_liquid_acn_mixture.cmd\n",
      "20:35:32 TleapDocker INFO: CMD: tleap -s -f /home/fren5/AutoSolvae-update/ionic_liquid_acn_mixture/leap_ionic_liquid_acn_mixture.cmd > /home/fren5/AutoSolvae-update/ionic_liquid_acn_mixture/leap_ionic_liquid_acn_mixture.log\n",
      "20:35:34 TleapDocker INFO: Successfully generated target prmtop file: /home/fren5/AutoSolvae-update/ionic_liquid_acn_mixture/ionic_liquid_acn_mixture.prmtop\n",
      "20:35:34 TleapDocker INFO: Successfully generated target inpcrd file: /home/fren5/AutoSolvae-update/ionic_liquid_acn_mixture/ionic_liquid_acn_mixture.inpcrd\n",
      "20:35:34 Molecule INFO: set the 'prmtop' file of system 'ionic_liquid_acn_mixture' to '/home/fren5/AutoSolvae-update/ionic_liquid_acn_mixture/ionic_liquid_acn_mixture.prmtop'\n",
      "20:35:34 Molecule INFO: set the 'inpcrd' file of system 'ionic_liquid_acn_mixture' to '/home/fren5/AutoSolvae-update/ionic_liquid_acn_mixture/ionic_liquid_acn_mixture.inpcrd'\n",
      "20:35:34 Molecule WARNING: The 'lib' file of system 'ionic_liquid_acn_mixture' is set to a non-existent path '/home/fren5/AutoSolvae-update/ionic_liquid_acn_mixture/ionic_liquid_acn_mixture.lib'\n"
     ]
    }
   ],
   "source": [
    "mol_cat = Molecule(\"/home/fren5/AutoSolvae-update/IL-test/amberparms/OMIM/OMIM.pdb\", 1, 1, \n",
    "                   name = \"OMIM\", residue_name = \"OMI\", folder = \"OMIM\")\n",
    "mol_cat.mol2 = \"/home/fren5/AutoSolvae-update/IL-test/amberparms/OMIM/OMIM.mol2\"\n",
    "mol_cat.frcmod = \"/home/fren5/AutoSolvae-update/IL-test/amberparms/OMIM/OMIM.frcmod\"\n",
    "mol_cat.update()\n",
    "\n",
    "mol_ani = Molecule(\"/home/fren5/AutoSolvae-update/IL-test/amberparms/NTF2/NTF2.pdb\",-1, 1,\n",
    "                     name = \"NTF2\", residue_name = \"NSC\", folder = \"NTF2\")\n",
    "mol_ani.mol2 = \"/home/fren5/AutoSolvae-update/IL-test/amberparms/NTF2/NTF2.mol2\"\n",
    "mol_ani.frcmod = \"/home/fren5/AutoSolvae-update/IL-test/amberparms/NTF2/NTF2.frcmod\"\n",
    "mol_ani.update()\n",
    "\n",
    "solvent = Molecule(\"/home/fren5/AutoSolvae-update/ch3cn/ch3cn.pdb\", 0, 1,\n",
    "                        name = \"CH3CN\", residue_name = \"C3N\", folder = \"CH3CN\")\n",
    "solvent.prep = \"/home/fren5/AutoSolvae-update/ch3cn/ch3cn.prep\"\n",
    "solvent.frcmod = \"/home/fren5/AutoSolvae-update/ch3cn/ch3cn.frcmod\"\n",
    "solvent.update()\n",
    "\n",
    "system = SolvatedSystem(\"ionic_liquid_acn_mixture\", solute = [mol_cat, mol_ani], solvent = solvent,  \n",
    "                        cubesize=50, closeness=2.0, solute_number=[25, 25], solvent_number=1700, folder = \"ionic_liquid_acn_mixture\")\n",
    "\n",
    "docker = PackmolDocker(system.folder)\n",
    "docker.run(system)\n",
    "\n",
    "docker = TleapDocker(system.folder)\n",
    "docker.run(system)"
   ]
  },
  {
   "cell_type": "code",
   "execution_count": 22,
   "metadata": {},
   "outputs": [
    {
     "data": {
      "text/plain": [
       "<parmed.amber.parameters.AmberParameterSet at 0x7f18ee220c10>"
      ]
     },
     "execution_count": 22,
     "metadata": {},
     "output_type": "execute_result"
    }
   ],
   "source": [
    "from parmed.amber import AmberParameterSet\n",
    "from parmed.topologyobjects import DihedralType, DihedralTypeList\n",
    "\n",
    "\n",
    "a = AmberParameterSet(r\"/home/fren5/AutoSolvae-update/IL-test/amberparms/OMIM/OMIM.frcmod\")\n",
    "a"
   ]
  },
  {
   "cell_type": "code",
   "execution_count": 23,
   "metadata": {},
   "outputs": [],
   "source": [
    "a.dihedral_types\n",
    "a.write(\"OMIM-nodified.frcmod\")\n",
    "for key, dihlist in a.dihedral_types.items():\n",
    "    id_of_dih_to_be_removed = []\n",
    "    for dih in dihlist:\n",
    "        if dih.phi_k == 0.0 and dih.per == 0.0:\n",
    "            dih.per = 1.0\n",
    "        elif dih.phi_k > 0.0 and dih.per == 0.0:\n",
    "            id_of_dih_to_be_removed.append(id(dih))\n",
    "    for dih_id in id_of_dih_to_be_removed:\n",
    "        j = 0\n",
    "        while j < len(dihlist):\n",
    "            if id(dihlist[j]) == dih_id:\n",
    "                print(\"Removing\", dihlist[j])\n",
    "                del dihlist[j]\n",
    "            else:\n",
    "                j += 1\n",
    "\n",
    "        print(key, dih.phi_k, dih.per)\n",
    "\n",
    "a.write(\"OMIM-modified.frcmod\")"
   ]
  }
 ],
 "metadata": {
  "kernelspec": {
   "display_name": "Python 3",
   "language": "python",
   "name": "python3"
  },
  "language_info": {
   "codemirror_mode": {
    "name": "ipython",
    "version": 3
   },
   "file_extension": ".py",
   "mimetype": "text/x-python",
   "name": "python",
   "nbconvert_exporter": "python",
   "pygments_lexer": "ipython3",
   "version": "3.8.18"
  }
 },
 "nbformat": 4,
 "nbformat_minor": 2
}
